{
 "cells": [
  {
   "cell_type": "code",
   "execution_count": 15,
   "metadata": {},
   "outputs": [],
   "source": [
    "%load_ext autoreload\n",
    "%autoreload 2\n",
    "\n"
   ]
  },
  {
   "cell_type": "code",
   "execution_count": 60,
   "metadata": {},
   "outputs": [
    {
     "name": "stdout",
     "output_type": "stream",
     "text": [
      "Requirement already satisfied: pydot in /Library/Frameworks/Python.framework/Versions/3.8/lib/python3.8/site-packages (2.0.0)\n",
      "Requirement already satisfied: pyparsing>=3 in /Library/Frameworks/Python.framework/Versions/3.8/lib/python3.8/site-packages (from pydot) (3.0.9)\n",
      "Requirement already satisfied: graphviz in /Library/Frameworks/Python.framework/Versions/3.8/lib/python3.8/site-packages (0.20.1)\n"
     ]
    }
   ],
   "source": [
    "!pip3 install --upgrade pydot\n",
    "!pip3 install --upgrade graphviz"
   ]
  },
  {
   "cell_type": "code",
   "execution_count": 67,
   "metadata": {},
   "outputs": [
    {
     "name": "stdout",
     "output_type": "stream",
     "text": [
      "\u001b[31mERROR: Could not find a version that satisfies the requirement python-graphviz (from versions: none)\u001b[0m\u001b[31m\n",
      "\u001b[0m\u001b[31mERROR: No matching distribution found for python-graphviz\u001b[0m\u001b[31m\n",
      "\u001b[0m"
     ]
    }
   ],
   "source": [
    "# pip3 install pydotplus \n",
    "!pip3 install python-graphviz"
   ]
  },
  {
   "cell_type": "code",
   "execution_count": 24,
   "metadata": {},
   "outputs": [],
   "source": [
    "import tensorflow.keras as keras"
   ]
  },
  {
   "cell_type": "code",
   "execution_count": 70,
   "metadata": {},
   "outputs": [],
   "source": [
    "import random\n",
    "\n",
    "import pandas as pd\n",
    "import numpy as np \n",
    "import matplotlib.pyplot as plt\n",
    "import matplotlib\n",
    "\n",
    "matplotlib.rcParams['figure.dpi'] = 50\n",
    "\n",
    "\n",
    "import nltk\n",
    "from nltk.corpus import movie_reviews\n",
    "\n",
    "from sklearn.model_selection import train_test_split\n",
    "\n",
    "\n",
    "import tensorflow as tf\n",
    "import tensorflow.keras as keras\n",
    "from tensorflow.keras.preprocessing.text import Tokenizer\n",
    "from tensorflow.keras.preprocessing import sequence\n",
    "from tensorflow.keras.utils import to_categorical, plot_model\n",
    "\n",
    "from tensorflow.keras import layers,Model\n",
    "from tensorflow.keras.models import Sequential\n",
    "from tensorflow.keras.layers import Input , Dense , LSTM , Embedding\n",
    "from tensorflow.keras.layers import Bidirectional, Concatenate\n",
    "from tensorflow.keras.layers import Attention\n",
    "from tensorflow.keras.layers import GlobalAveragePooling1D\n",
    "\n"
   ]
  },
  {
   "cell_type": "code",
   "execution_count": 2,
   "metadata": {},
   "outputs": [],
   "source": [
    "documents = [(' '.join(list(movie_reviews.words(fileid))), category)\n",
    "             for category in movie_reviews.categories()\n",
    "             for fileid in movie_reviews.fileids(category)]\n",
    "\n",
    "documents = [(text, 1) if label == \"pos\" else (text, 0)\n",
    "             for (text, label) in documents]\n",
    "\n",
    "random.shuffle(documents)\n"
   ]
  },
  {
   "cell_type": "code",
   "execution_count": 12,
   "metadata": {},
   "outputs": [
    {
     "name": "stdout",
     "output_type": "stream",
     "text": [
      "review sample text:f you ' ve been following william fichtner ' s ca\n",
      "review sentiment: 0\n"
     ]
    }
   ],
   "source": [
    "print('review sample text:' + documents[0][0][1:50])\n",
    "print('review sentiment: ' + str(documents[0][1]))\n"
   ]
  },
  {
   "cell_type": "code",
   "execution_count": 20,
   "metadata": {},
   "outputs": [
    {
     "name": "stdout",
     "output_type": "stream",
     "text": [
      "The shape of train : 1600\n",
      "The shape of test : 400\n"
     ]
    }
   ],
   "source": [
    "train, test = train_test_split(documents, test_size = 0.2 , random_state = 42)\n",
    "print('The shape of train : ' + str(len(train)))\n",
    "print('The shape of test : ' + str(len(test)))"
   ]
  },
  {
   "cell_type": "code",
   "execution_count": 21,
   "metadata": {},
   "outputs": [],
   "source": [
    "#To ways to represent the text\n",
    "# 1. Text to integer sequence with padding\n",
    "# 2. Text to one hot encoding - BoW approach\n"
   ]
  },
  {
   "cell_type": "code",
   "execution_count": 28,
   "metadata": {},
   "outputs": [
    {
     "name": "stdout",
     "output_type": "stream",
     "text": [
      "1600\n",
      "1600\n"
     ]
    }
   ],
   "source": [
    "#splitting into independent and target variables\n",
    "x_train = [ name for name,gender in train]\n",
    "y_train = [gender for name,gender in train]\n",
    "\n",
    "print(len(x_train))\n",
    "print(len(y_train))"
   ]
  },
  {
   "cell_type": "code",
   "execution_count": 35,
   "metadata": {},
   "outputs": [
    {
     "name": "stdout",
     "output_type": "stream",
     "text": [
      "Number of words including the padding character :10001\n",
      "[('the', 1), ('a', 2), ('and', 3), ('of', 4), ('to', 5), (\"'\", 6), ('is', 7), ('in', 8), ('s', 9), ('it', 10)]\n"
     ]
    }
   ],
   "source": [
    "NUM_WORDS = 100_00\n",
    "tokenizer = Tokenizer(num_words=NUM_WORDS)\n",
    "tokenizer.fit_on_texts(x_train)\n",
    "print('Number of words including the padding character :' + str(tokenizer.num_words + 1))\n",
    "print(list(tokenizer.word_index.items())[:10])"
   ]
  },
  {
   "cell_type": "code",
   "execution_count": 36,
   "metadata": {},
   "outputs": [],
   "source": [
    "#Approach 1 Sequence based embedding derivation"
   ]
  },
  {
   "cell_type": "code",
   "execution_count": 38,
   "metadata": {},
   "outputs": [
    {
     "name": "stdout",
     "output_type": "stream",
     "text": [
      "769\n",
      "576\n"
     ]
    }
   ],
   "source": [
    "text_ints = tokenizer.texts_to_sequences(x_train)\n",
    "print(len(x_train[1000].split(' ')))  ## original text word number\n",
    "print(len(text_ints[1000]))  ## sequence token number\n"
   ]
  },
  {
   "cell_type": "code",
   "execution_count": 41,
   "metadata": {},
   "outputs": [
    {
     "name": "stdout",
     "output_type": "stream",
     "text": [
      "Sequence representation :[141, 3662, 3, 604, 3798, 11, 6, 3593, 6, 7, 139, 1, 566, 22, 191, 21, 1, 286, 5, 7404, 67, 4312, 5513, 15, 8696, 28, 903, 7, 358, 1, 4499, 2686, 5320, 14, 3228, 42, 205, 917, 2, 77, 2733, 691, 11, 6, 9, 1814, 299, 48, 1155, 4, 39, 1, 493, 83, 3, 117, 1, 16, 37, 3080, 45, 29, 55, 1165, 4775, 112, 24, 38, 385, 10, 42, 10, 7, 7792, 1853, 5868, 50, 1, 245, 9438, 3977, 2300, 9313, 1, 1160, 550, 5, 25, 27, 8765, 24, 3743, 14, 1, 265, 454, 50, 2236, 3842, 9995, 6436, 13, 3814, 2, 2361, 1937, 7032, 3, 114, 22, 39, 272, 1433, 1086, 316, 2, 81, 195, 1074, 3, 2, 81, 206, 5737, 3999, 195, 35, 1, 3523, 607, 4, 1258, 3, 6394, 3, 52, 5329, 139, 4518, 12, 26, 4, 6, 9, 66, 1302, 14, 141, 1715, 4, 31, 29, 540, 6, 23, 800, 13, 1, 69, 124, 6, 9, 2, 962, 111, 391, 1258, 3, 65, 300, 6394, 22, 14, 52, 4719, 155, 33, 229, 84, 2, 962, 221, 1, 427, 154, 318, 49, 34, 161, 5, 748, 5, 38, 4045, 146, 343, 1591, 20, 154, 126, 368, 6394, 394, 5, 52, 382, 20, 1258, 6, 9, 90, 653, 2, 2103, 5, 573, 14, 38, 9636, 1383, 8, 1007, 4, 17, 23, 2944, 2611, 431, 1351, 40, 6394, 5455, 45, 13, 2, 1374, 774, 1, 4767, 3934, 2060, 24, 1862, 8610, 54, 1506, 12, 27, 3628, 260, 77, 2001, 4, 38, 63, 3, 1258, 29, 139, 94, 627, 130, 14, 38, 626, 2, 7142, 4, 6089, 8, 483, 5, 1243, 38, 138, 1, 2875, 1169, 1651, 7, 228, 135, 4, 2, 2875, 3, 18, 110, 35, 318, 74, 4, 1, 16, 6, 9, 134, 227, 603, 11, 6082, 20, 3593, 6, 9, 1157, 1033, 90, 148, 5, 1, 28, 6, 9, 82, 7, 427, 1254, 100, 1258, 3, 6394, 3242, 315, 4817, 4, 52, 244, 8, 1, 2760, 742, 30, 61, 7, 1254, 4426, 20, 10, 6, 9, 73, 2, 740, 186, 33, 98, 290, 3, 544, 85, 1, 165, 750, 13, 7833, 494, 41, 37, 228, 5, 25, 2, 365, 128, 903, 403, 11, 7140, 1, 26, 76, 2231, 4, 31, 6, 131, 1, 26, 11, 18, 271, 3, 56, 132, 274, 3593, 6, 9, 39, 15, 3, 53, 4, 1, 66, 4239, 316, 188, 32, 1, 4673, 316, 1, 527, 3809, 4500, 3467, 5, 31, 7, 2, 2348, 3979, 14, 3999, 195, 3, 8610, 6, 9, 8505, 41, 22, 555, 174, 18, 104, 78, 7, 26, 4, 3593, 6, 9, 66, 7169, 3940, 1, 871, 7, 9183, 149, 1074, 139, 1603, 11, 1079, 229, 536, 33, 1, 137, 4, 1254, 3, 1, 6804, 6736, 1518, 133, 5, 85, 2074, 6550, 3, 43, 6082, 20, 192, 373, 37, 1737, 62, 547, 1736, 8980, 62, 8529, 50, 116, 903, 1999, 62, 6970, 1, 8494, 3049, 3, 10, 6, 9, 2, 5773, 5, 3593, 6, 9, 6564, 699, 11, 192, 648, 5, 25, 1737, 10, 6, 9, 1, 165, 39, 153, 4060, 10, 6, 9, 252, 71, 13, 27, 1507, 198, 8, 2, 244, 69, 702, 13, 127, 303, 5, 6, 3013, 874, 3593, 68, 272, 2716, 2669, 3, 12, 74, 12, 10, 136, 67, 201, 157, 6357, 14, 4569, 3, 20, 3191, 4, 47, 1643, 10, 133, 5, 56, 55, 39, 2267, 21, 26, 184, 213, 2, 814, 3593, 7, 139, 1, 566]\n"
     ]
    }
   ],
   "source": [
    "print('Sequence representation :' +str(text_ints[1000]))"
   ]
  },
  {
   "cell_type": "code",
   "execution_count": 43,
   "metadata": {},
   "outputs": [
    {
     "data": {
      "text/plain": [
       "<seaborn.axisgrid.FacetGrid at 0x1587cdc70>"
      ]
     },
     "execution_count": 43,
     "metadata": {},
     "output_type": "execute_result"
    },
    {
     "data": {
      "image/png": "[encoded data removed]",
      "text/plain": [
       "<Figure size 500x500 with 1 Axes>"
      ]
     },
     "metadata": {},
     "output_type": "display_data"
    }
   ],
   "source": [
    "## Check the text len distribution\n",
    "texts_lens = [len(n) for n in text_ints]\n",
    "texts_lens\n",
    "import seaborn as sns\n",
    "sns.displot(texts_lens)"
   ]
  },
  {
   "cell_type": "code",
   "execution_count": 44,
   "metadata": {},
   "outputs": [
    {
     "data": {
      "text/plain": [
       "2333"
      ]
     },
     "execution_count": 44,
     "metadata": {},
     "output_type": "execute_result"
    }
   ],
   "source": [
    "## Find the maxlen of the texts\n",
    "max_len = texts_lens[np.argmax(texts_lens)]\n",
    "max_len"
   ]
  },
  {
   "cell_type": "code",
   "execution_count": 47,
   "metadata": {},
   "outputs": [
    {
     "data": {
      "text/plain": [
       "array([[1256, 4308,   14, ...,   88,   67, 1292],\n",
       "       [   0,    0,    0, ...,  925,   13, 2068],\n",
       "       [  90,  862, 4810, ...,  170,    5,  188],\n",
       "       ...,\n",
       "       [   9,  245,    5, ...,   19,   34,  778],\n",
       "       [ 701,    5,    1, ...,    1,    4,  507],\n",
       "       [3056,  439,  124, ..., 2982,  181, 1305]], dtype=int32)"
      ]
     },
     "execution_count": 47,
     "metadata": {},
     "output_type": "execute_result"
    }
   ],
   "source": [
    "PADDING = 400 \n",
    "texts_ints_pad = sequence.pad_sequences(text_ints, maxlen=PADDING, padding='pre',truncating='pre')\n",
    "texts_ints_pad[:10]"
   ]
  },
  {
   "cell_type": "code",
   "execution_count": 48,
   "metadata": {},
   "outputs": [],
   "source": [
    "## Gereate X and y for training\n",
    "X_train = np.array(texts_ints_pad).astype('int32')\n",
    "y_train = np.array(y_train)\n",
    "\n",
    "## Gereate X and y for testing in the same way\n",
    "X_test_texts = [n for (n, l) in test]\n",
    "X_test = np.array(\n",
    "    sequence.pad_sequences(tokenizer.texts_to_sequences(X_test_texts),\n",
    "                           maxlen=max_len,\n",
    "                           padding='pre',\n",
    "                           truncating='pre')).astype('int32')\n",
    "y_test = np.array([l for (n, l) in test])"
   ]
  },
  {
   "cell_type": "code",
   "execution_count": 49,
   "metadata": {},
   "outputs": [
    {
     "name": "stdout",
     "output_type": "stream",
     "text": [
      "(1600, 400)\n",
      "(1600,)\n",
      "(400, 2333)\n",
      "(400,)\n"
     ]
    }
   ],
   "source": [
    "print(X_train.shape)\n",
    "print(y_train.shape)\n",
    "print(X_test.shape)\n",
    "print(y_test.shape)"
   ]
  },
  {
   "cell_type": "code",
   "execution_count": 50,
   "metadata": {},
   "outputs": [],
   "source": [
    "# Modelling "
   ]
  },
  {
   "cell_type": "code",
   "execution_count": 51,
   "metadata": {},
   "outputs": [],
   "source": [
    "## A few DL hyperparameters\n",
    "BATCH_SIZE = 128\n",
    "EPOCHS = 25\n",
    "VALIDATION_SPLIT = 0.2\n",
    "EMBEDDING_DIM = 128"
   ]
  },
  {
   "cell_type": "code",
   "execution_count": 53,
   "metadata": {},
   "outputs": [],
   "source": [
    "# Plotting results\n",
    "def plot1(history):\n",
    "    acc = history.history['accuracy']\n",
    "    val_acc = history.history['val_accuracy']\n",
    "    loss = history.history['loss']\n",
    "    val_loss = history.history['val_loss']\n",
    "\n",
    "    epochs = range(1, len(acc) + 1)\n",
    "    ## Accuracy plot\n",
    "    plt.plot(epochs, acc, 'bo', label='Training acc')\n",
    "    plt.plot(epochs, val_acc, 'b', label='Validation acc')\n",
    "    plt.title('Training and validation accuracy')\n",
    "    plt.legend()\n",
    "    ## Loss plot\n",
    "    plt.figure()\n",
    "\n",
    "    plt.plot(epochs, loss, 'bo', label='Training loss')\n",
    "    plt.plot(epochs, val_loss, 'b', label='Validation loss')\n",
    "    plt.title('Training and validation loss')\n",
    "    plt.legend()\n",
    "    plt.show()\n",
    "\n",
    "\n",
    "def plot2(history):\n",
    "    pd.DataFrame(history.history).plot(figsize=(8, 5))\n",
    "    plt.grid(True)\n",
    "    #plt.gca().set_ylim(0,1)\n",
    "    plt.show()"
   ]
  },
  {
   "cell_type": "code",
   "execution_count": 73,
   "metadata": {},
   "outputs": [],
   "source": [
    "# one Embedding with 2 dense layers\n",
    "vocab_size = tokenizer.num_words +  1\n",
    "model_seq = Sequential()\n",
    "model_seq.add(Embedding(\n",
    "    input_dim = vocab_size,\n",
    "    output_dim = EMBEDDING_DIM,\n",
    "    input_length = PADDING,\n",
    "    mask_zero = True            \n",
    "))\n",
    "model_seq.add(GlobalAveragePooling1D())\n",
    "model_seq.add(Dense(16,activation='relu',name = 'Dense_Layer_1'))\n",
    "model_seq.add(Dense(16,activation='relu',name = 'Dense_Layer_2'))\n",
    "model_seq.add(Dense(1,activation='sigmoid',name = 'Output_Layer'))\n",
    "\n",
    "model_seq.compile(\n",
    "     loss = 'binary_crossentropy'\n",
    "    ,optimizer = 'adam'\n",
    "    ,metrics = ['accuracy']\n",
    ")\n",
    "\n",
    "\n",
    "\n"
   ]
  },
  {
   "cell_type": "code",
   "execution_count": 74,
   "metadata": {},
   "outputs": [],
   "source": [
    "#plot_model(model_seq, show_shapes=True)"
   ]
  },
  {
   "cell_type": "code",
   "execution_count": 75,
   "metadata": {},
   "outputs": [
    {
     "name": "stdout",
     "output_type": "stream",
     "text": [
      "Epoch 1/25\n",
      "10/10 - 6s - loss: 0.6929 - accuracy: 0.5000 - val_loss: 0.6924 - val_accuracy: 0.4750 - 6s/epoch - 617ms/step\n",
      "Epoch 2/25\n",
      "10/10 - 2s - loss: 0.6903 - accuracy: 0.5125 - val_loss: 0.6904 - val_accuracy: 0.4750 - 2s/epoch - 165ms/step\n",
      "Epoch 3/25\n",
      "10/10 - 1s - loss: 0.6855 - accuracy: 0.5133 - val_loss: 0.6867 - val_accuracy: 0.4781 - 1s/epoch - 119ms/step\n",
      "Epoch 4/25\n",
      "10/10 - 1s - loss: 0.6779 - accuracy: 0.5406 - val_loss: 0.6815 - val_accuracy: 0.5031 - 963ms/epoch - 96ms/step\n",
      "Epoch 5/25\n",
      "10/10 - 1s - loss: 0.6657 - accuracy: 0.6250 - val_loss: 0.6733 - val_accuracy: 0.5437 - 840ms/epoch - 84ms/step\n",
      "Epoch 6/25\n",
      "10/10 - 1s - loss: 0.6491 - accuracy: 0.6516 - val_loss: 0.6607 - val_accuracy: 0.5938 - 1s/epoch - 102ms/step\n",
      "Epoch 7/25\n",
      "10/10 - 1s - loss: 0.6254 - accuracy: 0.7516 - val_loss: 0.6500 - val_accuracy: 0.5750 - 817ms/epoch - 82ms/step\n",
      "Epoch 8/25\n",
      "10/10 - 1s - loss: 0.5945 - accuracy: 0.7875 - val_loss: 0.6285 - val_accuracy: 0.6438 - 843ms/epoch - 84ms/step\n",
      "Epoch 9/25\n",
      "10/10 - 1s - loss: 0.5574 - accuracy: 0.8266 - val_loss: 0.6081 - val_accuracy: 0.6687 - 871ms/epoch - 87ms/step\n",
      "Epoch 10/25\n",
      "10/10 - 1s - loss: 0.5132 - accuracy: 0.8875 - val_loss: 0.5930 - val_accuracy: 0.6500 - 1s/epoch - 116ms/step\n",
      "Epoch 11/25\n",
      "10/10 - 1s - loss: 0.4646 - accuracy: 0.9094 - val_loss: 0.5644 - val_accuracy: 0.6938 - 998ms/epoch - 100ms/step\n",
      "Epoch 12/25\n",
      "10/10 - 1s - loss: 0.4142 - accuracy: 0.9344 - val_loss: 0.5401 - val_accuracy: 0.7094 - 999ms/epoch - 100ms/step\n",
      "Epoch 13/25\n",
      "10/10 - 1s - loss: 0.3643 - accuracy: 0.9609 - val_loss: 0.5324 - val_accuracy: 0.7031 - 918ms/epoch - 92ms/step\n",
      "Epoch 14/25\n",
      "10/10 - 1s - loss: 0.3152 - accuracy: 0.9789 - val_loss: 0.5098 - val_accuracy: 0.7219 - 1s/epoch - 115ms/step\n",
      "Epoch 15/25\n",
      "10/10 - 1s - loss: 0.2691 - accuracy: 0.9875 - val_loss: 0.4889 - val_accuracy: 0.7594 - 1s/epoch - 115ms/step\n",
      "Epoch 16/25\n",
      "10/10 - 1s - loss: 0.2237 - accuracy: 0.9922 - val_loss: 0.4578 - val_accuracy: 0.7906 - 891ms/epoch - 89ms/step\n",
      "Epoch 17/25\n",
      "10/10 - 1s - loss: 0.1826 - accuracy: 0.9953 - val_loss: 0.4319 - val_accuracy: 0.8094 - 780ms/epoch - 78ms/step\n",
      "Epoch 18/25\n",
      "10/10 - 1s - loss: 0.1455 - accuracy: 0.9984 - val_loss: 0.4134 - val_accuracy: 0.8156 - 985ms/epoch - 99ms/step\n",
      "Epoch 19/25\n",
      "10/10 - 1s - loss: 0.1136 - accuracy: 1.0000 - val_loss: 0.4041 - val_accuracy: 0.8156 - 1s/epoch - 106ms/step\n",
      "Epoch 20/25\n",
      "10/10 - 2s - loss: 0.0880 - accuracy: 1.0000 - val_loss: 0.3842 - val_accuracy: 0.8313 - 2s/epoch - 173ms/step\n",
      "Epoch 21/25\n",
      "10/10 - 1s - loss: 0.0682 - accuracy: 1.0000 - val_loss: 0.3746 - val_accuracy: 0.8500 - 1s/epoch - 135ms/step\n",
      "Epoch 22/25\n",
      "10/10 - 1s - loss: 0.0536 - accuracy: 1.0000 - val_loss: 0.3714 - val_accuracy: 0.8500 - 1s/epoch - 128ms/step\n",
      "Epoch 23/25\n",
      "10/10 - 1s - loss: 0.0425 - accuracy: 1.0000 - val_loss: 0.3673 - val_accuracy: 0.8438 - 1s/epoch - 108ms/step\n",
      "Epoch 24/25\n",
      "10/10 - 1s - loss: 0.0342 - accuracy: 1.0000 - val_loss: 0.3656 - val_accuracy: 0.8438 - 1s/epoch - 133ms/step\n",
      "Epoch 25/25\n",
      "10/10 - 1s - loss: 0.0280 - accuracy: 1.0000 - val_loss: 0.3579 - val_accuracy: 0.8531 - 1s/epoch - 121ms/step\n"
     ]
    }
   ],
   "source": [
    "history2 = model_seq.fit(X_train,\n",
    "                      y_train,\n",
    "                      batch_size=BATCH_SIZE,\n",
    "                      epochs=EPOCHS,\n",
    "                      verbose=2,\n",
    "                      validation_split=VALIDATION_SPLIT)"
   ]
  },
  {
   "cell_type": "code",
   "execution_count": 76,
   "metadata": {},
   "outputs": [
    {
     "data": {
      "image/png": "[encoded data removed]",
      "text/plain": [
       "<Figure size 320x240 with 1 Axes>"
      ]
     },
     "metadata": {},
     "output_type": "display_data"
    },
    {
     "data": {
      "image/png": "[encoded data removed]",
      "text/plain": [
       "<Figure size 320x240 with 1 Axes>"
      ]
     },
     "metadata": {},
     "output_type": "display_data"
    }
   ],
   "source": [
    "plot1(history2)"
   ]
  },
  {
   "cell_type": "code",
   "execution_count": 77,
   "metadata": {},
   "outputs": [
    {
     "name": "stdout",
     "output_type": "stream",
     "text": [
      "4/4 - 2s - loss: 0.3216 - accuracy: 0.8625 - 2s/epoch - 561ms/step\n",
      "The model accuracy on the validation set 0.862500011920929\n",
      "The Loss on the validation set 0.3215598165988922\n"
     ]
    }
   ],
   "source": [
    "metrics_seq = model_seq.evaluate(X_test, y_test, batch_size=BATCH_SIZE, verbose=2)\n",
    "print('The model accuracy on the validation set '+ str(metrics_seq[1]))\n",
    "print('The Loss on the validation set '+ str(metrics_seq[0]))"
   ]
  },
  {
   "cell_type": "code",
   "execution_count": 85,
   "metadata": {},
   "outputs": [],
   "source": [
    "# Layers - Embedding - 1, LSTM - 2, Dense - 1\n",
    "vocab_size = tokenizer.num_words +  1\n",
    "model_lstm = Sequential()\n",
    "model_lstm.add(Embedding(\n",
    "    input_dim = vocab_size,\n",
    "    output_dim = EMBEDDING_DIM,\n",
    "    input_length = PADDING,\n",
    "    mask_zero = True            \n",
    "))\n",
    "\n",
    "model_lstm.add(LSTM(16,return_sequences = True , dropout = 0.2,recurrent_dropout = 0.2, name = 'LSTM_1'))\n",
    "model_lstm.add(LSTM(16,dropout = 0.2,recurrent_dropout = 0.2,  name = 'LSTM_2'))\n",
    "model_lstm.add(Dense(1,activation='sigmoid',name = 'Output_Layer'))\n",
    "\n",
    "model_lstm.compile(\n",
    "     loss = 'binary_crossentropy'\n",
    "    ,optimizer = 'adam'\n",
    "    ,metrics = ['accuracy']\n",
    ")\n",
    "\n"
   ]
  },
  {
   "cell_type": "code",
   "execution_count": 86,
   "metadata": {},
   "outputs": [
    {
     "name": "stdout",
     "output_type": "stream",
     "text": [
      "Epoch 1/25\n",
      "10/10 - 37s - loss: 0.6920 - accuracy: 0.5352 - val_loss: 0.6929 - val_accuracy: 0.4750 - 37s/epoch - 4s/step\n",
      "Epoch 2/25\n",
      "10/10 - 30s - loss: 0.6829 - accuracy: 0.5383 - val_loss: 0.6903 - val_accuracy: 0.4969 - 30s/epoch - 3s/step\n",
      "Epoch 3/25\n",
      "10/10 - 30s - loss: 0.6563 - accuracy: 0.6492 - val_loss: 0.6741 - val_accuracy: 0.5500 - 30s/epoch - 3s/step\n",
      "Epoch 4/25\n",
      "10/10 - 27s - loss: 0.5638 - accuracy: 0.7891 - val_loss: 0.6137 - val_accuracy: 0.6594 - 27s/epoch - 3s/step\n",
      "Epoch 5/25\n",
      "10/10 - 21s - loss: 0.3880 - accuracy: 0.8859 - val_loss: 0.5473 - val_accuracy: 0.7219 - 21s/epoch - 2s/step\n",
      "Epoch 6/25\n",
      "10/10 - 28s - loss: 0.2663 - accuracy: 0.9430 - val_loss: 0.5489 - val_accuracy: 0.7375 - 28s/epoch - 3s/step\n",
      "Epoch 7/25\n",
      "10/10 - 25s - loss: 0.1830 - accuracy: 0.9758 - val_loss: 0.6259 - val_accuracy: 0.7312 - 25s/epoch - 2s/step\n",
      "Epoch 8/25\n",
      "10/10 - 35s - loss: 0.1267 - accuracy: 0.9891 - val_loss: 0.6225 - val_accuracy: 0.7344 - 35s/epoch - 3s/step\n",
      "Epoch 9/25\n",
      "10/10 - 17s - loss: 0.0966 - accuracy: 0.9930 - val_loss: 0.7193 - val_accuracy: 0.7281 - 17s/epoch - 2s/step\n",
      "Epoch 10/25\n",
      "10/10 - 19s - loss: 0.0751 - accuracy: 0.9961 - val_loss: 0.7076 - val_accuracy: 0.7344 - 19s/epoch - 2s/step\n",
      "Epoch 11/25\n",
      "10/10 - 19s - loss: 0.0622 - accuracy: 0.9961 - val_loss: 0.7463 - val_accuracy: 0.7312 - 19s/epoch - 2s/step\n",
      "Epoch 12/25\n",
      "10/10 - 20s - loss: 0.0527 - accuracy: 0.9977 - val_loss: 0.6873 - val_accuracy: 0.7688 - 20s/epoch - 2s/step\n",
      "Epoch 13/25\n",
      "10/10 - 23s - loss: 0.0437 - accuracy: 0.9984 - val_loss: 0.8212 - val_accuracy: 0.7250 - 23s/epoch - 2s/step\n",
      "Epoch 14/25\n",
      "10/10 - 30s - loss: 0.0409 - accuracy: 0.9984 - val_loss: 0.8874 - val_accuracy: 0.7125 - 30s/epoch - 3s/step\n",
      "Epoch 15/25\n",
      "10/10 - 23s - loss: 0.0351 - accuracy: 0.9984 - val_loss: 0.8231 - val_accuracy: 0.7219 - 23s/epoch - 2s/step\n",
      "Epoch 16/25\n",
      "10/10 - 37s - loss: 0.0308 - accuracy: 0.9992 - val_loss: 0.8643 - val_accuracy: 0.7125 - 37s/epoch - 4s/step\n",
      "Epoch 17/25\n",
      "10/10 - 56s - loss: 0.0269 - accuracy: 0.9992 - val_loss: 0.8798 - val_accuracy: 0.7250 - 56s/epoch - 6s/step\n",
      "Epoch 18/25\n",
      "10/10 - 20s - loss: 0.0211 - accuracy: 1.0000 - val_loss: 0.8642 - val_accuracy: 0.7500 - 20s/epoch - 2s/step\n",
      "Epoch 19/25\n",
      "10/10 - 16s - loss: 0.0188 - accuracy: 1.0000 - val_loss: 0.8985 - val_accuracy: 0.7500 - 16s/epoch - 2s/step\n",
      "Epoch 20/25\n",
      "10/10 - 15s - loss: 0.0168 - accuracy: 1.0000 - val_loss: 0.9567 - val_accuracy: 0.7437 - 15s/epoch - 2s/step\n",
      "Epoch 21/25\n",
      "10/10 - 17s - loss: 0.0162 - accuracy: 0.9992 - val_loss: 1.0003 - val_accuracy: 0.7312 - 17s/epoch - 2s/step\n",
      "Epoch 22/25\n",
      "10/10 - 15s - loss: 0.0148 - accuracy: 1.0000 - val_loss: 0.9955 - val_accuracy: 0.7250 - 15s/epoch - 2s/step\n",
      "Epoch 23/25\n",
      "10/10 - 15s - loss: 0.0132 - accuracy: 1.0000 - val_loss: 1.0843 - val_accuracy: 0.7188 - 15s/epoch - 2s/step\n",
      "Epoch 24/25\n",
      "10/10 - 18s - loss: 0.0126 - accuracy: 1.0000 - val_loss: 1.0213 - val_accuracy: 0.7437 - 18s/epoch - 2s/step\n",
      "Epoch 25/25\n",
      "10/10 - 14s - loss: 0.0144 - accuracy: 0.9984 - val_loss: 1.0478 - val_accuracy: 0.7375 - 14s/epoch - 1s/step\n"
     ]
    }
   ],
   "source": [
    "history_lstm = model_lstm.fit(X_train,\n",
    "                      y_train,\n",
    "                      batch_size=BATCH_SIZE,\n",
    "                      epochs=EPOCHS,\n",
    "                      verbose=2,\n",
    "                      validation_split=0.2)"
   ]
  },
  {
   "cell_type": "code",
   "execution_count": 87,
   "metadata": {},
   "outputs": [
    {
     "data": {
      "image/png": "[encoded data removed]",
      "text/plain": [
       "<Figure size 320x240 with 1 Axes>"
      ]
     },
     "metadata": {},
     "output_type": "display_data"
    },
    {
     "data": {
      "image/png": "[encoded data removed]",
      "text/plain": [
       "<Figure size 320x240 with 1 Axes>"
      ]
     },
     "metadata": {},
     "output_type": "display_data"
    }
   ],
   "source": [
    "plot1(history_lstm)"
   ]
  },
  {
   "cell_type": "code",
   "execution_count": 88,
   "metadata": {},
   "outputs": [
    {
     "name": "stdout",
     "output_type": "stream",
     "text": [
      "4/4 - 9s - loss: 1.1073 - accuracy: 0.7075 - 9s/epoch - 2s/step\n",
      "The model accuracy on the validation set 0.7074999809265137\n",
      "The Loss on the validation set 1.1073344945907593\n"
     ]
    }
   ],
   "source": [
    "metrics_lstm = model_lstm.evaluate(X_test, y_test, batch_size=BATCH_SIZE, verbose=2)\n",
    "print('The model accuracy on the validation set '+ str(metrics_lstm[1]))\n",
    "print('The Loss on the validation set '+ str(metrics_lstm[0]))"
   ]
  },
  {
   "cell_type": "code",
   "execution_count": null,
   "metadata": {},
   "outputs": [],
   "source": []
  }
 ],
 "metadata": {
  "kernelspec": {
   "display_name": "Python 3",
   "language": "python",
   "name": "python3"
  },
  "language_info": {
   "codemirror_mode": {
    "name": "ipython",
    "version": 3
   },
   "file_extension": ".py",
   "mimetype": "text/x-python",
   "name": "python",
   "nbconvert_exporter": "python",
   "pygments_lexer": "ipython3",
   "version": "3.8.10"
  },
  "orig_nbformat": 4,
  "vscode": {
   "interpreter": {
    "hash": "949777d72b0d2535278d3dc13498b2535136f6dfe0678499012e853ee9abcab1"
   }
  }
 },
 "nbformat": 4,
 "nbformat_minor": 2
}
